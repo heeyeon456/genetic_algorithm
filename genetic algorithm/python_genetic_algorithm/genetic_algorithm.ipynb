{
 "cells": [
  {
   "cell_type": "code",
   "execution_count": null,
   "metadata": {
    "collapsed": true
   },
   "outputs": [],
   "source": [
    "import pandas as pd\n",
    "import random\n",
    "import sys\n",
    "from sklearn.model_selection import KFold\n",
    "from sklearn import linear_model\n",
    "from feature_selection_elasticnet import make_df, selected_by_elastic_net_boot,\\\n",
    "find_l1, feature_by_elastic_net\n",
    "from feature_selection_cor import fdr_testing,calculate_corr,calculate_corr_cut_by_num, \\\n",
    "make_df_by_selected\n",
    "from tools import rmse_cal"
   ]
  },
  {
   "cell_type": "code",
   "execution_count": null,
   "metadata": {
    "collapsed": true
   },
   "outputs": [],
   "source": [
    "def make_df(input_data,feature):\n",
    "    input_data=pd.read_table('combined_dataset/platform_common/training/liver_common_train.tsv',sep='\\t')\n",
    "    result_feature=pd.merge(input_data,feature,how=\"inner\",on=['Composite Element REF'])\n",
    "    result_feature=result_feature.append(input_data.iloc[len(input_data)-1,:],ignore_index=True)\n",
    "    result_feature = result_feature.drop(['count'], axis=1)\n",
    "    return result_feature"
   ]
  },
  {
   "cell_type": "code",
   "execution_count": null,
   "metadata": {
    "collapsed": true
   },
   "outputs": [],
   "source": [
    "def initialize_pop(data_frame):\n",
    "    pop=pd.DataFrame(columns=input_df.iloc[:-1,0]);\n",
    "    for i in range(pop_size):\n",
    "        for j in range(len(data_frame)):\n",
    "            rand=random.random()\n",
    "            if(rand>0.3):\n",
    "                pop.set_value(i,data_frame.iloc[j,0],1)\n",
    "            else:\n",
    "                pop.set_value(i,data_frame.iloc[j,0],0)\n",
    "    \n",
    "    return pop"
   ]
  },
  {
   "cell_type": "code",
   "execution_count": null,
   "metadata": {
    "collapsed": true
   },
   "outputs": [],
   "source": [
    "def elastic_net(l1,input_data):\n",
    "    \n",
    "    input_data.fillna(0,inplace=True)\n",
    "    \n",
    "    pred=pd.DataFrame()\n",
    "    real=pd.DataFrame()\n",
    "    \n",
    "    kf=KFold(n_splits=10)\n",
    "    elastic_net=ElasticNetCV(cv=kf, fit_intercept=True, random_state=RandomState(None), selection='random',\n",
    "                             max_iter=100000,l1_ratio=l1)\n",
    "    prediction=pd.DataFrame(columns=['predict','real'])\n",
    "    \n",
    "    \n",
    "    for train, test in kf.split(input_data):\n",
    "        \n",
    "        x_train=input_data.iloc[train,:-1].astype('float64').values\n",
    "        y_train=input_data.iloc[train,-1].astype('float64').values\n",
    "        elastic_net.fit(x_train,y_train)\n",
    "    \n",
    "        x_test=input_data.iloc[test,:-1].astype('float64').values\n",
    "        y_test=input_data.iloc[test,-1].astype('float64').values        \n",
    "         \n",
    "        pred=pred.append(pd.DataFrame(elastic_net.predict(x_test)))\n",
    "        real=real.append(pd.DataFrame(y_test))\n",
    "        \n",
    "        \n",
    "    prediction=pd.concat([pred,real],axis=1)\n",
    "\n",
    "\n",
    "    rmse=rmse_cal(prediction.iloc[:,0],prediction.iloc[:,1])\n",
    "    #mae=mae_cal(prediction.iloc[:,0],prediction.iloc[:,1])\n",
    "    #cor=cor_cal(prediction.iloc[:,0],prediction.iloc[:,1])\n",
    "    \n",
    "    #print('rmse = '+str(rmse) +'\\nmae = '+str(mae)+'\\ncor = '+str(cor[0]) )\n",
    "    return rmse"
   ]
  },
  {
   "cell_type": "code",
   "execution_count": null,
   "metadata": {
    "collapsed": true
   },
   "outputs": [],
   "source": [
    "def LinearReg(input_data):\n",
    "    \n",
    "    reg=linear_model.LinearRegression()\n",
    "    \n",
    "    input_data.fillna(0,inplace=True)\n",
    "    \n",
    "    pred=pd.DataFrame()\n",
    "    real=pd.DataFrame()\n",
    "    \n",
    "    kf=KFold(n_splits=10)\n",
    "    \n",
    "    prediction=pd.DataFrame(columns=['predict','real'])\n",
    "    \n",
    "    for train, test in kf.split(input_data):\n",
    "        \n",
    "        x_train=input_data.iloc[train,:-1].astype('float64').values\n",
    "        y_train=input_data.iloc[train,-1].astype('float64').values\n",
    "        reg.fit(x_train,y_train)\n",
    "    \n",
    "        x_test=input_data.iloc[test,:-1].astype('float64').values\n",
    "        y_test=input_data.iloc[test,-1].astype('float64').values        \n",
    "         \n",
    "        pred=pred.append(pd.DataFrame(reg.predict(x_test)))\n",
    "        real=real.append(pd.DataFrame(y_test))\n",
    "        \n",
    "        \n",
    "    prediction=pd.concat([pred,real],axis=1)\n",
    "\n",
    "\n",
    "    rmse=rmse_cal(prediction.iloc[:,0],prediction.iloc[:,1])\n",
    "    \n",
    "    return rmse,prediction"
   ]
  },
  {
   "cell_type": "code",
   "execution_count": null,
   "metadata": {
    "collapsed": true
   },
   "outputs": [],
   "source": [
    "def fitness_function(input_df,pop):\n",
    "    \n",
    "    num=0\n",
    "    fitness_value=pd.Series(range(pop_size),dtype=float)\n",
    "\n",
    "\n",
    "    for i in range(pop_size):\n",
    "        tmp_df=pd.DataFrame(columns=input_df.columns)\n",
    "        for j in range(len(input_df)):\n",
    "            if pop.ix[i,j]==1:\n",
    "                tmp_df.loc[num]=input_df.loc[j]\n",
    "                num=num+1\n",
    "        tmp_df=tmp_df.append(input_df.iloc[-1,:],ignore_index=True)\n",
    "        #min_l1=find_l1(tmp_df)\n",
    "        #l1_ratio=(min_l1[0],1)\n",
    "    \n",
    "        t=tmp_df.transpose()\n",
    "        a=LinearReg(t.iloc[1:,:])\n",
    "    \n",
    "        fitness_value[i]=a[0]\n",
    "        \n",
    "        \n",
    "\n",
    "    return fitness_value     "
   ]
  },
  {
   "cell_type": "code",
   "execution_count": null,
   "metadata": {
    "collapsed": true
   },
   "outputs": [],
   "source": [
    "def selection(pop,fitness_value,gen):\n",
    "    selected_pop=pd.DataFrame(columns=input_df.iloc[:-1,0])\n",
    "    rand_num=0\n",
    "    for i in range(pop_size):\n",
    "        rand_num=int(random.random()*pop_size)\n",
    "        if fitness_value.iloc[gen-1,i] < fitness_value.iloc[gen-1,rand_num]:\n",
    "            selected_pop.loc[i]=pop.loc[i]\n",
    "        else:\n",
    "            selected_pop.loc[i]=pop.loc[rand_num]\n",
    "    return selected_pop"
   ]
  },
  {
   "cell_type": "code",
   "execution_count": null,
   "metadata": {
    "collapsed": true
   },
   "outputs": [],
   "source": [
    "def onepoint_crossover(selected_pop):\n",
    "    crossover_pop=pd.DataFrame(columns=input_df.iloc[:-1,0])\n",
    "    crossover_pop=selected_pop\n",
    "    rand_num=0\n",
    "    for i in range(int(pop_size/2)):\n",
    "        rand_num=random.random()\n",
    "    \n",
    "        if rand_num<crossover_prob:\n",
    "            pos1 = int(random.random()*len(input_df)/2)\n",
    "            pos2 = int(random.random()*(len(input_df)/2)+len(input_df)/2)\n",
    "            \n",
    "            crossover_pop.ix[i,pos1:pos2]=selected_pop.ix[i+pop_size/2,pos1:pos2]\n",
    "            crossover_pop.ix[i+pop_size/2,pos1:pos2]=selected_pop.ix[i,pos1:pos2]\n",
    "           \n",
    "    return crossover_pop   "
   ]
  },
  {
   "cell_type": "code",
   "execution_count": null,
   "metadata": {
    "collapsed": true
   },
   "outputs": [],
   "source": [
    "def threepoint_crossover(selected_pop):\n",
    "    crossover_pop=pd.DataFrame(columns=input_df.iloc[:-1,0])\n",
    "    crossover_pop=selected_pop\n",
    "    rand_num=0\n",
    "    for i in range(int(pop_size/2)):\n",
    "        rand_num=random.random()\n",
    "\n",
    "        if rand_num<crossover_prob:\n",
    "            pos1 = int(random.random()*len(input_df)/4)\n",
    "            pos2 = int(random.random()*(len(input_df)/4)+len(input_df)/4)\n",
    "\n",
    "            crossover_pop.ix[i,pos1:pos2]=selected_pop.ix[i+pop_size/2,pos1:pos2]\n",
    "            crossover_pop.ix[i+pop_size/2,pos1:pos2]=selected_pop.ix[i,pos1:pos2]\n",
    "\n",
    "            pos3 = int(random.random()*(len(input_df)/4)+2*len(input_df)/4)\n",
    "            pos4 = int(random.random()*(len(input_df)/2)+3*len(input_df)/2)\n",
    "\n",
    "            crossover_pop.ix[i,pos3:pos4]=selected_pop.ix[i+pop_size/2,pos3:pos4]\n",
    "            crossover_pop.ix[i+pop_size/2,pos3:pos4]=selected_pop.ix[i,pos3:pos4]\n",
    "\n",
    "    return crossover_pop"
   ]
  },
  {
   "cell_type": "code",
   "execution_count": null,
   "metadata": {
    "collapsed": true
   },
   "outputs": [],
   "source": [
    "def mutation(crossover_pop):\n",
    "    mutation_pop=pd.DataFrame(columns=input_df.iloc[:-1,0])\n",
    "    mutation_pop=crossover_pop\n",
    "\n",
    "    for i in range(pop_size):\n",
    "        for j in range(len(input_df)-1):\n",
    "        \n",
    "            rand_num=random.random();\n",
    "        \n",
    "            value=crossover_pop.ix[i,j]\n",
    "        \n",
    "            if rand_num<mutation_prob:\n",
    "                if(value==0):\n",
    "                    mutation_pop.iloc[i,j]=1\n",
    "                else:\n",
    "                    mutation_pop.iloc[i,j]=0\n",
    "            else:\n",
    "                mutation_pop.ix[i,j]=value\n",
    "    return mutation_pop"
   ]
  },
  {
   "cell_type": "code",
   "execution_count": null,
   "metadata": {
    "collapsed": true
   },
   "outputs": [],
   "source": [
    "global pop_size\n",
    "global generation\n",
    "\n",
    "pop_size=10\n",
    "crossover_prob=0.9\n",
    "mutation_prob=0.05\n",
    "generation=1\n",
    "\n",
    "feature=pd.read_table('liver_selected_feature.tsv',sep='\\t')\n",
    "feature.rename(columns={'CpG': 'Composite Element REF'}, inplace=True)\n",
    "input_data=pd.read_table('liver_common_train.tsv',sep='\\t')\n",
    "input_df=make_df(input_data,feature)\n",
    "\n",
    "\n",
    "fitness_value=pd.DataFrame(columns=range(pop_size))\n",
    "\n",
    "gen=1\n",
    "pop=initialize_pop(input_df)\n",
    "fitness_value.loc[gen-1]=fitness_function(input_df,pop)\n",
    "\n",
    "\n",
    "for gen in range(generation):\n",
    "    \n",
    "    selected_pop=selection(pop,fitness_value,gen)\n",
    "    crossover_pop=onepoint_crossover(selected_pop)\n",
    "    mutation_pop=mutation(crossover_pop)\n",
    "    pop=mutation_pop\n",
    "    fitness_value.loc[gen-1]=fitness_function(input_df,pop)\n",
    "\n",
    "    sys.stdout.write('generation '+'\\r{0}'.format(gen)+' / '+str(generation)+' complete!')\n",
    "    sys.stdout.flush()\n",
    "\n",
    "    \n",
    "    \n",
    "fitness_value\n"
   ]
  }
 ],
 "metadata": {
  "anaconda-cloud": {},
  "kernelspec": {
   "display_name": "Python [Root]",
   "language": "python",
   "name": "Python [Root]"
  },
  "language_info": {
   "codemirror_mode": {
    "name": "ipython",
    "version": 3
   },
   "file_extension": ".py",
   "mimetype": "text/x-python",
   "name": "python",
   "nbconvert_exporter": "python",
   "pygments_lexer": "ipython3",
   "version": "3.5.2"
  }
 },
 "nbformat": 4,
 "nbformat_minor": 0
}
